{
 "cells": [
  {
   "cell_type": "code",
   "execution_count": null,
   "id": "d2fa971b",
   "metadata": {},
   "outputs": [],
   "source": [
    "from tkinter import *\n",
    "from tkinter import messagebox\n",
    "def newTask():\n",
    "    task = my_entry.get()\n",
    "    if task != \"\":\n",
    "        lb.insert(END, task)\n",
    "        my_entry.delete(0, \"end\")\n",
    "    else:\n",
    "        messagebox.showwarning(\"warning\", \"Please enter some task.\")\n",
    "def deleteTask():\n",
    "    lb.delete(ANCHOR)\n",
    "ws = Tk()\n",
    "ws.geometry('500x450+500+200')\n",
    "ws.title('PythonGuides')\n",
    "ws.config(bg='#223441')\n",
    "ws.resizable(width=False, height=False)\n",
    "frame = Frame(ws)\n",
    "frame.pack(pady=10)\n",
    "lb = Listbox(frame, width=25, height=8, font=('Times', 18), bd=0, fg='#464646', highlightthickness=0, selectbackground='#a6a6a6', activestyle=\"none\",)\n",
    "lb.pack(side=LEFT, fill=BOTH)\n",
    "task_list = ['Eat apple', 'drink water', 'go gym', 'write software', 'write documentation', 'take a nap',\n",
    "    'Learn something', 'paint canvas']\n",
    "for item in task_list:\n",
    "    lb.insert(END, item)\n",
    "sb = Scrollbar(frame)\n",
    "sb.pack(side=RIGHT, fill=BOTH)\n",
    "lb.config(yscrollcommand=sb.set)\n",
    "sb.config(command=lb.yview)\n",
    "my_entry = Entry(ws, font=('times', 24))\n",
    "my_entry.pack(pady=20)\n",
    "button_frame = Frame(ws)\n",
    "button_frame.pack(pady=20)\n",
    "addTask_btn = Button(button_frame, text='Add Task', font=('times 14'), bg='#c5f776', padx=20, pady=10,\n",
    "    command=newTask)\n",
    "addTask_btn.pack(fill=BOTH, expand=True, side=LEFT)\n",
    "delTask_btn = Button(button_frame, text='Delete Task', font=('times 14'), bg='#ff8b61', padx=20, pady=10,\n",
    "    command=deleteTask)\n",
    "delTask_btn.pack(fill=BOTH, expand=True, side=LEFT)\n",
    "ws.mainloop()"
   ]
  },
  {
   "cell_type": "code",
   "execution_count": null,
   "id": "e8cb3541",
   "metadata": {},
   "outputs": [],
   "source": []
  }
 ],
 "metadata": {
  "kernelspec": {
   "display_name": "Python 3 (ipykernel)",
   "language": "python",
   "name": "python3"
  },
  "language_info": {
   "codemirror_mode": {
    "name": "ipython",
    "version": 3
   },
   "file_extension": ".py",
   "mimetype": "text/x-python",
   "name": "python",
   "nbconvert_exporter": "python",
   "pygments_lexer": "ipython3",
   "version": "3.11.5"
  }
 },
 "nbformat": 4,
 "nbformat_minor": 5
}
